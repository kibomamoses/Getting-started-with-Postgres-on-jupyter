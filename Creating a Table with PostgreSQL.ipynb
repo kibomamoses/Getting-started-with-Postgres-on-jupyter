{
 "cells": [
  {
   "cell_type": "markdown",
   "id": "b528df29",
   "metadata": {},
   "source": [
    "# Moses Kiboma-Creating a Table with PostgreSQL\n",
    "objectives\n",
    "1. Connect to the local instance of PostgreSQL (127.0.0.1)\n",
    "2. creating the database interndb\n",
    "3. Use the database/schema from the instance.\n",
    "4. The connection reaches out to the database (interndb) and use the correct privilages to connect to the database (user=intern and password = intern).\n",
    "5. creating table technocolabsintern\n",
    "6. inserting data into the table\n",
    "7. validating the data was inserted into the table.\n",
    "18. closing the connection"
   ]
  },
  {
   "cell_type": "code",
   "execution_count": 3,
   "id": "030f3efb",
   "metadata": {},
   "outputs": [],
   "source": [
    "#first install and import postgreSQL adapter for the Python\n",
    "#!pip install psycopg2-binary\n",
    "import psycopg2 "
   ]
  },
  {
   "cell_type": "markdown",
   "id": "a60ed2cf",
   "metadata": {},
   "source": [
    "## 1. Creating the database using the following commands in the terminal"
   ]
  },
  {
   "cell_type": "code",
   "execution_count": 5,
   "id": "22559713",
   "metadata": {},
   "outputs": [],
   "source": [
    "#Creating a database\n",
    "#sudo -u postgres psql\n",
    "#sudo -u postgres psql\n",
    "#create database interndb;\n",
    "#create user intern with encrypted password 'intern';\n",
    "#grant all privileges on database interndb to intern;"
   ]
  },
  {
   "cell_type": "markdown",
   "id": "193e201d",
   "metadata": {},
   "source": [
    "## 2. Creating a connection to the database"
   ]
  },
  {
   "cell_type": "code",
   "execution_count": 6,
   "id": "9043eefb",
   "metadata": {},
   "outputs": [],
   "source": [
    "try: \n",
    "    conn = psycopg2.connect(\"host=localhost  dbname=interndb user=intern password=intern\")\n",
    "except psycopg2.Error as e: \n",
    "    print(\"Error: Could not make connection to the Postgres database\")\n",
    "    print(e)"
   ]
  },
  {
   "cell_type": "markdown",
   "id": "1f42631d",
   "metadata": {},
   "source": [
    "## 3.  Creating a cursor that will be used to execute postgres queries"
   ]
  },
  {
   "cell_type": "code",
   "execution_count": 7,
   "id": "35a70fb9",
   "metadata": {},
   "outputs": [],
   "source": [
    "try: \n",
    "    cur = conn.cursor()\n",
    "except psycopg2.Error as e: \n",
    "    print(\"Error: Could not get curser to the Database\")\n",
    "    print(e)"
   ]
  },
  {
   "cell_type": "markdown",
   "id": "164c4f52",
   "metadata": {},
   "source": [
    "## 4. Use automactic commit so that each action is commited without having to call conn.commit() after each command"
   ]
  },
  {
   "cell_type": "code",
   "execution_count": 8,
   "id": "72a21e1b",
   "metadata": {},
   "outputs": [],
   "source": [
    "conn.set_session(autocommit=True)"
   ]
  },
  {
   "cell_type": "markdown",
   "id": "33b8359a",
   "metadata": {},
   "source": [
    "## 5. creating a table Techoncolabsintern"
   ]
  },
  {
   "cell_type": "code",
   "execution_count": 23,
   "id": "74c73b81",
   "metadata": {},
   "outputs": [],
   "source": [
    "try: \n",
    "    cur.execute(\"CREATE TABLE IF NOT EXISTS technocolabsintern(name varchar, department varchar,location varchar, joining_year int);\")\n",
    "except psycopg2.Error as e: \n",
    "    print(\"Error: Issue creating table\")\n",
    "    print (e)"
   ]
  },
  {
   "cell_type": "markdown",
   "id": "7551747e",
   "metadata": {},
   "source": [
    "## 6. Inserting data into the table"
   ]
  },
  {
   "cell_type": "code",
   "execution_count": 24,
   "id": "384e97f1",
   "metadata": {},
   "outputs": [],
   "source": [
    "try: \n",
    "    cur.execute(\"INSERT INTO technocolabsintern (name, department, location, joining_year) \\\n",
    "                 VALUES (%s, %s, %s ,%s)\", \\\n",
    "                 (\"pareshdevda\", \"Data Science\",\"China\", 2021))\n",
    "except psycopg2.Error as e: \n",
    "    print(\"Error: Inserting Rows\")\n",
    "    print (e)\n",
    "try: \n",
    "    cur.execute(\"INSERT INTO technocolabsintern (name, department, location, joining_year) \\\n",
    "                 VALUES (%s, %s, %s ,%s)\", \\\n",
    "                 (\"bhatkedar\", \"Data Engineeing\",\"Canada\", 2017))\n",
    "except psycopg2.Error as e: \n",
    "    print(\"Error: Inserting Rows\")\n",
    "    print (e)\n",
    "try: \n",
    "    cur.execute(\"INSERT INTO technocolabsintern (name, department, location, joining_year) \\\n",
    "                 VALUES (%s, %s, %s ,%s)\", \\\n",
    "                 (\"roshan\", \"Data Analyst\",\"Japan\", 2020))\n",
    "except psycopg2.Error as e: \n",
    "    print(\"Error: Inserting Rows\")\n",
    "    print (e)\n",
    "try: \n",
    "    cur.execute(\"INSERT INTO technocolabsintern (name, department, location, joining_year) \\\n",
    "                 VALUES (%s, %s, %s ,%s)\", \\\n",
    "                 (\"Sanjay\", \"Machine Learning\",\"India\", 2021))\n",
    "except psycopg2.Error as e: \n",
    "    print(\"Error: Inserting Rows\")\n",
    "    print (e)\n",
    "try: \n",
    "    cur.execute(\"INSERT INTO technocolabsintern (name, department, location, joining_year) \\\n",
    "                 VALUES (%s, %s, %s ,%s)\", \\\n",
    "                 (\"ramkishoremalkari\", \"Data Analyst\",\"Egypt\", 2018))\n",
    "except psycopg2.Error as e: \n",
    "    print(\"Error: Inserting Rows\")\n",
    "    print (e)\n",
    "try: \n",
    "    cur.execute(\"INSERT INTO technocolabsintern (name, department, location, joining_year) \\\n",
    "                 VALUES (%s, %s, %s ,%s)\", \\\n",
    "                 (\"Wnikhil\", \"Data Science\",\"USA\", 2020))\n",
    "except psycopg2.Error as e: \n",
    "    print(\"Error: Inserting Rows\")\n",
    "    print (e)\n",
    "try: \n",
    "    cur.execute(\"INSERT INTO technocolabsintern (name, department, location, joining_year) \\\n",
    "                 VALUES (%s, %s, %s ,%s)\", \\\n",
    "                 (\"suhas\", \"Machine Learning\",\"Pakstan\", 2019))\n",
    "except psycopg2.Error as e: \n",
    "    print(\"Error: Inserting Rows\")\n",
    "    print (e)\n",
    "try: \n",
    "    cur.execute(\"INSERT INTO technocolabsintern (name, department, location, joining_year) \\\n",
    "                 VALUES (%s, %s, %s ,%s)\", \\\n",
    "                 (\"lkbanjali\", \"Data Engineering\",\"Mexico\", 2022))\n",
    "except psycopg2.Error as e: \n",
    "    print(\"Error: Inserting Rows\")\n",
    "    print (e)\n",
    "try: \n",
    "    cur.execute(\"INSERT INTO technocolabsintern (name, department, location, joining_year) \\\n",
    "                 VALUES (%s, %s, %s ,%s)\", \\\n",
    "                 (\"Kiboma\", \"Data Science\",\"Kenya\", 2021))\n",
    "except psycopg2.Error as e: \n",
    "    print(\"Error: Inserting Rows\")\n",
    "    print (e)"
   ]
  },
  {
   "cell_type": "markdown",
   "id": "48d6141e",
   "metadata": {},
   "source": [
    "## 7. Validating the data was inserted into the table"
   ]
  },
  {
   "cell_type": "code",
   "execution_count": 25,
   "id": "10078437",
   "metadata": {},
   "outputs": [
    {
     "name": "stdout",
     "output_type": "stream",
     "text": [
      "('pareshdevda', 'Data Science', 'China', 2021)\n",
      "('bhatkedar', 'Data Engineeing', 'Canada', 2017)\n",
      "('roshan', 'Data Analyst', 'Japan', 2020)\n",
      "('Sanjay', 'Machine Learning', 'India', 2021)\n",
      "('ramkishoremalkari', 'Data Analyst', 'Egypt', 2018)\n",
      "('Wnikhil', 'Data Science', 'USA', 2020)\n",
      "('suhas', 'Machine Learning', 'Pakstan', 2019)\n",
      "('lkbanjali', 'Data Engineering', 'Mexico', 2022)\n",
      "('Kiboma', 'Data Science', 'Kenya', 2021)\n",
      "('pareshdevda', 'Data Science', 'China', 2021)\n",
      "('bhatkedar', 'Data Engineeing', 'Canada', 2017)\n",
      "('roshan', 'Data Analyst', 'Japan', 2020)\n",
      "('Sanjay', 'Machine Learning', 'India', 2021)\n",
      "('ramkishoremalkari', 'Data Analyst', 'Egypt', 2018)\n",
      "('Wnikhil', 'Data Science', 'USA', 2020)\n",
      "('suhas', 'Machine Learning', 'Pakstan', 2019)\n",
      "('lkbanjali', 'Data Engineering', 'Mexico', 2022)\n",
      "('Kiboma', 'Data Science', 'Kenya', 2021)\n"
     ]
    }
   ],
   "source": [
    "try: \n",
    "    cur.execute(\"SELECT * FROM technocolabsintern;\")\n",
    "except psycopg2.Error as e: \n",
    "    print(\"Error: select *\")\n",
    "    print (e)\n",
    "\n",
    "row = cur.fetchone()\n",
    "while row:\n",
    "   print(row)\n",
    "   row = cur.fetchone()"
   ]
  },
  {
   "cell_type": "code",
   "execution_count": 30,
   "id": "0d65cf19",
   "metadata": {},
   "outputs": [],
   "source": [
    "cur.close()\n",
    "conn.close()"
   ]
  },
  {
   "cell_type": "code",
   "execution_count": null,
   "id": "1c9ff394",
   "metadata": {},
   "outputs": [],
   "source": []
  }
 ],
 "metadata": {
  "kernelspec": {
   "display_name": "Python 3 (ipykernel)",
   "language": "python",
   "name": "python3"
  },
  "language_info": {
   "codemirror_mode": {
    "name": "ipython",
    "version": 3
   },
   "file_extension": ".py",
   "mimetype": "text/x-python",
   "name": "python",
   "nbconvert_exporter": "python",
   "pygments_lexer": "ipython3",
   "version": "3.8.10"
  }
 },
 "nbformat": 4,
 "nbformat_minor": 5
}
